{
 "cells": [
  {
   "cell_type": "code",
   "execution_count": 3,
   "metadata": {},
   "outputs": [],
   "source": [
    "import numpy as np\n",
    "import pandas as pd"
   ]
  },
  {
   "cell_type": "code",
   "execution_count": 6,
   "metadata": {},
   "outputs": [],
   "source": [
    "filter_phrases = ['great cross-z',\n",
    "                'great cross z',\n",
    "                'great-cross',\n",
    "                'best match',\n",
    "                'best-match',\n",
    "                'bestmatch',\n",
    "                'ultimate',\n",
    "                'extreme',\n",
    "                'fake kamen', \n",
    "                'beast', \n",
    "                'great leader', \n",
    "                'brave', \n",
    "                'grand zi-o', \n",
    "                'grand zio',\n",
    "                'grand zi o',\n",
    "                'great eye', \n",
    "                'great emperor', \n",
    "                'cancer', \n",
    "                'great ten-faced', \n",
    "                'great ten', \n",
    "                'great demia', \n",
    "                'shocker']"
   ]
  },
  {
   "cell_type": "markdown",
   "metadata": {},
   "source": [
    "This is just to figure things out, remove later or whatever\n",
    "\n",
    "1) Remove filter words/phrases\n",
    "2) Tokenize\n",
    "3) Lemmatize\n",
    "\n",
    "Filter words must be removed first so they aren't lemmatized or split and unfiltered"
   ]
  },
  {
   "cell_type": "code",
   "execution_count": 153,
   "metadata": {},
   "outputs": [],
   "source": [
    "comments = pd.read_csv(r'C:/Users/Spencer/Documents/GitHub/r_kamenrider/scrape/r_kamenrider_comments_cut')"
   ]
  },
  {
   "cell_type": "code",
   "execution_count": 154,
   "metadata": {},
   "outputs": [],
   "source": [
    "comments = comments.dropna(subset = ['body'])"
   ]
  },
  {
   "cell_type": "code",
   "execution_count": 159,
   "metadata": {},
   "outputs": [],
   "source": [
    "test_id = comments[comments['body'].str.contains('great cross z')]['id'].tolist()[0]\n",
    "test_body = comments[comments['body'].str.contains('great cross z')]['body'].tolist()[0]\n",
    "test_author = comments[comments['body'].str.contains('great cross z')]['author'].tolist()[0]"
   ]
  },
  {
   "cell_type": "code",
   "execution_count": 160,
   "metadata": {},
   "outputs": [],
   "source": [
    "filtered_count = 0\n",
    "def phrase_filter(instr, filter_phrases):\n",
    "    for phrase in filter_phrases:\n",
    "        if phrase in instr:\n",
    "            global filtered_count\n",
    "            filtered_count += 1\n",
    "            instr = instr.replace(phrase, '')\n",
    "    return instr"
   ]
  },
  {
   "cell_type": "code",
   "execution_count": 161,
   "metadata": {},
   "outputs": [
    {
     "data": {
      "text/plain": [
       "'this contains '"
      ]
     },
     "execution_count": 161,
     "metadata": {},
     "output_type": "execute_result"
    }
   ],
   "source": [
    "test_instr = 'this contains great cross z'\n",
    "phrase_filter(test_instr, filter_phrases)"
   ]
  },
  {
   "cell_type": "code",
   "execution_count": 162,
   "metadata": {},
   "outputs": [],
   "source": [
    "comments['body'] = comments['body'].apply(lambda x: phrase_filter(x, filter_phrases))"
   ]
  },
  {
   "cell_type": "code",
   "execution_count": 163,
   "metadata": {},
   "outputs": [],
   "source": [
    "result_body = comments[comments['id']==test_id]['body'].tolist()[0]"
   ]
  },
  {
   "cell_type": "code",
   "execution_count": 164,
   "metadata": {},
   "outputs": [
    {
     "data": {
      "text/plain": [
       "False"
      ]
     },
     "execution_count": 164,
     "metadata": {},
     "output_type": "execute_result"
    }
   ],
   "source": [
    "result_body == test_body"
   ]
  },
  {
   "cell_type": "code",
   "execution_count": 165,
   "metadata": {},
   "outputs": [],
   "source": [
    "keywords = {'v3': ['v3'], \n",
    "            'x': ['x'], \n",
    "            'amazon': ['amazon'], \n",
    "            'stronger': ['stronger'], \n",
    "            'skyrider': ['skyrider'], \n",
    "            'super-1': ['super-1', 'super 1'],  \n",
    "            'black': ['black'], \n",
    "            'black rx': ['black rx'], \n",
    "            'kuuga': ['kuuga', 'kuga'], \n",
    "            'agito': ['agito'], \n",
    "            'ryuki': ['ryuki'], \n",
    "            '555': ['555', 'faiz'], \n",
    "            'blade': ['blade'], \n",
    "            'hibiki': ['hibiki'], \n",
    "            'kabuto': ['kabuto'], \n",
    "            'den-o': ['den-o', 'deno', 'den o'],  \n",
    "            'kiva': ['kiva'], \n",
    "            'decade': ['decade'], \n",
    "            'w': ['w', 'double'],\n",
    "            'ooo': ['ooo'], \n",
    "            'fourze': ['fourze'], \n",
    "            'wizard': ['wizard'], \n",
    "            'gaim': ['gaim'], \n",
    "            'drive': ['drive'], \n",
    "            'ghost': ['ghost'], \n",
    "            'amazons': ['amazons'], \n",
    "            'ex-aid': ['ex-aid', 'exaid', 'ex aid'], \n",
    "            'build': ['build'], \n",
    "            'zi-o': ['zi-o', 'zio', 'zi o']\n",
    "            }"
   ]
  },
  {
   "cell_type": "code",
   "execution_count": 169,
   "metadata": {},
   "outputs": [
    {
     "data": {
      "text/plain": [
       "0.012181463811961835"
      ]
     },
     "execution_count": 169,
     "metadata": {},
     "output_type": "execute_result"
    }
   ],
   "source": [
    "filtered_count / len(comments['id']) #worth it?"
   ]
  },
  {
   "cell_type": "code",
   "execution_count": null,
   "metadata": {},
   "outputs": [],
   "source": []
  }
 ],
 "metadata": {
  "kernelspec": {
   "display_name": "Python 3",
   "language": "python",
   "name": "python3"
  },
  "language_info": {
   "codemirror_mode": {
    "name": "ipython",
    "version": 3
   },
   "file_extension": ".py",
   "mimetype": "text/x-python",
   "name": "python",
   "nbconvert_exporter": "python",
   "pygments_lexer": "ipython3",
   "version": "3.6.5"
  }
 },
 "nbformat": 4,
 "nbformat_minor": 2
}
