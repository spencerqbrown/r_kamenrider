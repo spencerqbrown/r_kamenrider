{
 "cells": [
  {
   "cell_type": "code",
   "execution_count": null,
   "metadata": {},
   "outputs": [],
   "source": []
  },
  {
   "cell_type": "code",
   "execution_count": 1,
   "metadata": {},
   "outputs": [],
   "source": [
    "filter_words = ['great cross-z', \n",
    "                'great cross z', \n",
    "                'great-cross', \n",
    "                'stronger', \n",
    "                'best match', \n",
    "                'best-match', \n",
    "                'bestmatch', \n",
    "                'ultimate', \n",
    "                'extreme', \n",
    "                'stronger', \n",
    "                'fake kamen', \n",
    "                'beast', \n",
    "                'great leader', \n",
    "                'brave', \n",
    "                'grand zi-o', \n",
    "                'grand zio', \n",
    "                'great eye', \n",
    "                'great emperor', \n",
    "                'cancer', \n",
    "                'great ten-faced', \n",
    "                'great ten', \n",
    "                'great demia', \n",
    "                'shocker']\n",
    "keywords = ['v3', \n",
    "            'x', \n",
    "            'amazon', \n",
    "            'stronger', \n",
    "            'skyrider', \n",
    "            'super-1', \n",
    "            'super 1', \n",
    "            'black', \n",
    "            'black rx', \n",
    "            'kuuga', \n",
    "            'kuga', \n",
    "            'agito', \n",
    "            'ryuki', \n",
    "            '555', \n",
    "            'blade', \n",
    "            'hibiki', \n",
    "            'kabuto', \n",
    "            'den-o', \n",
    "            'deno', \n",
    "            'den o', \n",
    "            'kiva', \n",
    "            'decade', \n",
    "            'w', \n",
    "            'double', \n",
    "            'ooo', \n",
    "            'fourze', \n",
    "            'wizard', \n",
    "            'gaim', \n",
    "            'drive', \n",
    "            'ghost', \n",
    "            'amazons', \n",
    "            'ex-aid', \n",
    "            'exaid', \n",
    "            'ex aid', \n",
    "            'build', \n",
    "            'zi-o', \n",
    "            'zio', \n",
    "            'zi o']"
   ]
  },
  {
   "cell_type": "code",
   "execution_count": null,
   "metadata": {},
   "outputs": [],
   "source": []
  }
 ],
 "metadata": {
  "kernelspec": {
   "display_name": "Python 3",
   "language": "python",
   "name": "python3"
  },
  "language_info": {
   "codemirror_mode": {
    "name": "ipython",
    "version": 3
   },
   "file_extension": ".py",
   "mimetype": "text/x-python",
   "name": "python",
   "nbconvert_exporter": "python",
   "pygments_lexer": "ipython3",
   "version": "3.6.5"
  }
 },
 "nbformat": 4,
 "nbformat_minor": 2
}
